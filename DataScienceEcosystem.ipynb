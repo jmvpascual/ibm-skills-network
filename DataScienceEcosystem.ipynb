{
  "metadata": {
    "kernelspec": {
      "name": "python",
      "display_name": "Python (Pyodide)",
      "language": "python"
    },
    "language_info": {
      "codemirror_mode": {
        "name": "python",
        "version": 3
      },
      "file_extension": ".py",
      "mimetype": "text/x-python",
      "name": "python",
      "nbconvert_exporter": "python",
      "pygments_lexer": "ipython3",
      "version": "3.8"
    }
  },
  "nbformat_minor": 4,
  "nbformat": 4,
  "cells": [
    {
      "cell_type": "markdown",
      "source": "### Exercise 2: Create markdown cell with title on the notebook.\n\nCreate a markdown cell with the title \"Data Science Tools and Ecosystem\" using H1 style heading.",
      "metadata": {
        "jp-MarkdownHeadingCollapsed": true
      }
    },
    {
      "cell_type": "markdown",
      "source": "# Data Science Tools and Ecosytem",
      "metadata": {}
    },
    {
      "cell_type": "markdown",
      "source": "### Exercise 3: Create a markdown cell for an introduction.\n\nWrite an introductory sentence about the notebook such as the follows:\n\n\"*In this notebook, Data Science Tools and Ecosystem are summarized.*\"",
      "metadata": {}
    },
    {
      "cell_type": "markdown",
      "source": "**Objectives:**\n\n* List popular data science languages\n* List popular data science libraries\n* Create a single column table of data science tools\n* Express multiplication and addition operations using a code cell\n* Leverage code to convert minutes to hours",
      "metadata": {}
    },
    {
      "cell_type": "markdown",
      "source": "In this notebook, **Data Science Tools and Ecosystems** are summarized.",
      "metadata": {}
    },
    {
      "cell_type": "markdown",
      "source": "### Exercise 4: Create a markdown cell to list data science languages.\n\nStart the cell with an overview line such as:\n\n\"*Some of the popular languages that Data Scientists use are:*\"\n\nThen create an \"ordered list\" (i.e. numbered) listing 3 (or more) commonly used languages for data science.",
      "metadata": {}
    },
    {
      "cell_type": "markdown",
      "source": "Some of the **popular languages** that Data Scientists use are:\n\n1. Python\n2. R\n3. Julia\n4. Scala\n5. Weka ",
      "metadata": {}
    },
    {
      "cell_type": "markdown",
      "source": "### Exercise 5: Create a markdown cell to list data science libraries.\n\nAdd an overview line to the cell like:\n\n\"*Some of the commonly used libraries used by Data Scientists include:*:\n\nBelow this line add an \"ordered list\" listing 3 (or more) commonly used libraries in data science.",
      "metadata": {}
    },
    {
      "cell_type": "markdown",
      "source": "Some of the **commonly used libraries** that Data Scientists include:\n\n1. NumPy\n2. Pandas\n3. Matplotlib\n4. Seaborn\n5. scikit-learn",
      "metadata": {}
    },
    {
      "cell_type": "markdown",
      "source": "### Exercise 6: Create a markdown cell with a table of Data Science tools.\n\nCreate a single column table in this cell with the first row containing the header \"Data Science Tools\". The subsequent three rows in the table should indicate three development environment open source tools used in data science.",
      "metadata": {}
    },
    {
      "cell_type": "markdown",
      "source": "| Data Science Tools | \n| -------------|\n| Jupyter Notebook| \n| RStudio| \n| Watson Studio| ",
      "metadata": {}
    },
    {
      "cell_type": "markdown",
      "source": "### Exercise 7: Create a markdown cell introducing arithmetic expression examples.\n\nAdd a line in this cell with H3 style heading with text like:\n\n\"Below are a few examples of evaluating arithmetic expressions in Python\"",
      "metadata": {}
    },
    {
      "cell_type": "markdown",
      "source": "### Below are a few examples of evaluating arithmetic expressions in Python",
      "metadata": {}
    },
    {
      "cell_type": "markdown",
      "source": "### Exercise 8: Create a code cell to multiple and add numbers\n\nIn this code cell evaluate the expression \"(3*4)+5\".\n\nInsert a comment line before the expression to explain the operation (eg. This is a simple arithmetic expression to multiply then add integers).\n\nThen execute the cell to ensure the expression returns the expected output of \"17\".",
      "metadata": {}
    },
    {
      "cell_type": "code",
      "source": "# This is a simple arithmetic expression to multiply then add integers\n\n(3*4)+5",
      "metadata": {
        "trusted": true
      },
      "outputs": [
        {
          "execution_count": 1,
          "output_type": "execute_result",
          "data": {
            "text/plain": "17"
          },
          "metadata": {}
        }
      ],
      "execution_count": 1
    },
    {
      "cell_type": "markdown",
      "source": "### Exercise 9: Create a code cell to convert minutes to hours\n\nIn this code cell write an expression that converts \"200 minutes\" into hours.\n\nInsert a comment line before the expression to explain the operation (eg. This will convert 200 minutes to hours by dividing by 60).\n\nRun the cell to evaluate the expression.",
      "metadata": {}
    },
    {
      "cell_type": "code",
      "source": "# This will convert 200 minutes to hours by dividing by 60\n\n200/60",
      "metadata": {
        "trusted": true
      },
      "outputs": [
        {
          "execution_count": 2,
          "output_type": "execute_result",
          "data": {
            "text/plain": "3.3333333333333335"
          },
          "metadata": {}
        }
      ],
      "execution_count": 2
    },
    {
      "cell_type": "markdown",
      "source": "### Exercise 10: Insert a markdown cell to list objectives\n\nBelow the introduction cell created in Exercise 3, insert a new markdown cell to list the objectives that this notebook covered (i.e. some of the key takeaways from the course). \n\nIn this new cell, start with an introductory line titled: \"Objectives:\" in bold font. Then, using an \"unordered list\" (bullets), indicate 3-5 items covered in this notebook, such as \"List popular languages for Data Science\". ",
      "metadata": {}
    },
    {
      "cell_type": "markdown",
      "source": "### Exercise 11: Create a markdown cell to indicate the Author's name\n\nIn this markdown cell, include the following text: \"Author\" in H2 style heading. Include your name as regular text below the word Author. ",
      "metadata": {}
    },
    {
      "cell_type": "markdown",
      "source": "## Author:\n\nJose C. Pascual",
      "metadata": {}
    }
  ]
}